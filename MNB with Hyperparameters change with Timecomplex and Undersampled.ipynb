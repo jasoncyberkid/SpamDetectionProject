{
 "cells": [
  {
   "cell_type": "code",
   "execution_count": 7,
   "id": "d4f791a3",
   "metadata": {},
   "outputs": [
    {
     "name": "stdout",
     "output_type": "stream",
     "text": [
      "     v1                                                 v2 Unnamed: 2  \\\n",
      "0   ham  Go until jurong point, crazy.. Available only ...        NaN   \n",
      "1   ham                      Ok lar... Joking wif u oni...        NaN   \n",
      "2  spam  Free entry in 2 a wkly comp to win FA Cup fina...        NaN   \n",
      "3   ham  U dun say so early hor... U c already then say...        NaN   \n",
      "4   ham  Nah I don't think he goes to usf, he lives aro...        NaN   \n",
      "\n",
      "  Unnamed: 3 Unnamed: 4  \n",
      "0        NaN        NaN  \n",
      "1        NaN        NaN  \n",
      "2        NaN        NaN  \n",
      "3        NaN        NaN  \n",
      "4        NaN        NaN  \n",
      "  label                                               Text  label_enc\n",
      "0   ham  Go until jurong point, crazy.. Available only ...          0\n",
      "1   ham                      Ok lar... Joking wif u oni...          0\n",
      "2  spam  Free entry in 2 a wkly comp to win FA Cup fina...          1\n",
      "3   ham  U dun say so early hor... U c already then say...          0\n",
      "4   ham  Nah I don't think he goes to usf, he lives aro...          0\n"
     ]
    },
    {
     "data": {
      "image/png": "[encoded data removed]",
      "text/plain": [
       "<Figure size 640x480 with 1 Axes>"
      ]
     },
     "metadata": {},
     "output_type": "display_data"
    },
    {
     "name": "stdout",
     "output_type": "stream",
     "text": [
      "15\n",
      "15585\n",
      "(1195,) (1195,) (299,) (299,)\n",
      "0.9698996655518395\n",
      "              precision    recall  f1-score   support\n",
      "\n",
      "           0       0.96      0.98      0.97       145\n",
      "           1       0.98      0.96      0.97       154\n",
      "\n",
      "    accuracy                           0.97       299\n",
      "   macro avg       0.97      0.97      0.97       299\n",
      "weighted avg       0.97      0.97      0.97       299\n",
      "\n",
      "Execution Time: 0.03551340103149414\n"
     ]
    }
   ],
   "source": [
    "import numpy as np\n",
    "import pandas as pd\n",
    "import matplotlib.pyplot as plt\n",
    "import seaborn as sns\n",
    "from sklearn.model_selection import train_test_split\n",
    "from sklearn.feature_extraction.text import TfidfVectorizer\n",
    "from sklearn.naive_bayes import MultinomialNB\n",
    "from sklearn.metrics import classification_report, accuracy_score\n",
    "from imblearn.under_sampling import RandomUnderSampler\n",
    "import time\n",
    "\n",
    "# Reading the data\n",
    "df = pd.read_csv(r'C:\\Users\\Win10\\Downloads\\Kaggle Dataset\\spam.csv', encoding='latin1')\n",
    "print(df.head())\n",
    "\n",
    "df = df.drop(['Unnamed: 2', 'Unnamed: 3', 'Unnamed: 4'], axis=1)\n",
    "df = df.rename(columns={'v1': 'label', 'v2': 'Text'})\n",
    "df['label_enc'] = df['label'].map({'ham': 0, 'spam': 1})\n",
    "print(df.head())\n",
    "\n",
    "sns.countplot(x=df['label'])\n",
    "plt.show()\n",
    "\n",
    "# Find average number of tokens in all sentences\n",
    "avg_words_len = round(sum([len(i.split()) for i in df['Text']]) / len(df['Text']))\n",
    "print(avg_words_len)\n",
    "\n",
    "# Finding Total no of unique words in corpus\n",
    "s = set()\n",
    "for sent in df['Text']:\n",
    "    for word in sent.split():\n",
    "        s.add(word)\n",
    "total_words_length = len(s)\n",
    "print(total_words_length)\n",
    "\n",
    "# Splitting data for Training and testing\n",
    "X, y = np.asanyarray(df['Text']), np.asanyarray(df['label_enc'])\n",
    "new_df = pd.DataFrame({'Text': X, 'label': y})\n",
    "\n",
    "# Performing undersampling\n",
    "rus = RandomUnderSampler(random_state=42)\n",
    "X_resampled, y_resampled = rus.fit_resample(new_df['Text'].values.reshape(-1, 1), new_df['label'].values)\n",
    "\n",
    "X_train, X_test, y_train_resampled, y_test = train_test_split(\n",
    "    X_resampled.flatten(), y_resampled, test_size=0.2, random_state=42)\n",
    "print(X_train.shape, y_train_resampled.shape, X_test.shape, y_test.shape)\n",
    "\n",
    "# Measure time complexity\n",
    "start_time = time.time()\n",
    "\n",
    "tfidf_vec = TfidfVectorizer().fit(X_train)\n",
    "X_train_vec, X_test_vec = tfidf_vec.transform(X_train), tfidf_vec.transform(X_test)\n",
    "\n",
    "alpha = 0.7  # Set the desired alpha value\n",
    "fit_prior = False  # Set to True to fit class prior probabilities, False otherwise\n",
    "\n",
    "baseline_model = MultinomialNB(alpha=alpha, fit_prior=fit_prior)\n",
    "baseline_model.fit(X_train_vec, y_train_resampled)\n",
    "\n",
    "nb_accuracy = accuracy_score(y_test, baseline_model.predict(X_test_vec))\n",
    "print(nb_accuracy)\n",
    "print(classification_report(y_test, baseline_model.predict(X_test_vec)))\n",
    "\n",
    "# Measure the end time complexity\n",
    "end_time = time.time()\n",
    "execution_time = end_time - start_time\n",
    "\n",
    "# Print the execution time\n",
    "print('Execution Time:', execution_time)\n"
   ]
  },
  {
   "cell_type": "code",
   "execution_count": null,
   "id": "5d8471e0",
   "metadata": {},
   "outputs": [],
   "source": []
  }
 ],
 "metadata": {
  "kernelspec": {
   "display_name": "Python 3 (ipykernel)",
   "language": "python",
   "name": "python3"
  },
  "language_info": {
   "codemirror_mode": {
    "name": "ipython",
    "version": 3
   },
   "file_extension": ".py",
   "mimetype": "text/x-python",
   "name": "python",
   "nbconvert_exporter": "python",
   "pygments_lexer": "ipython3",
   "version": "3.10.9"
  }
 },
 "nbformat": 4,
 "nbformat_minor": 5
}
